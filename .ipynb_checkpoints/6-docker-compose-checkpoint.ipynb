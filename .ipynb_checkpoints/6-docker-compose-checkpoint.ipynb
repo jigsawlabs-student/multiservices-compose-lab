{
 "cells": [
  {
   "cell_type": "markdown",
   "metadata": {},
   "source": [
    "# Flask Docker Compose"
   ]
  },
  {
   "cell_type": "markdown",
   "metadata": {},
   "source": [
    "### Introduction"
   ]
  },
  {
   "cell_type": "markdown",
   "metadata": {},
   "source": [
    "In this lesson, we'll work through setting up a multi-service application with docker compose.  Our application should consist of a streamlit front-end that hits a flask API in the backend.  That flask api will be able to make requests to a postgres service. \n",
    "\n",
    "Ok, let's get started."
   ]
  },
  {
   "cell_type": "markdown",
   "metadata": {},
   "source": [
    "### Structuring our application"
   ]
  },
  {
   "cell_type": "markdown",
   "metadata": {},
   "source": [
    "To begin, we can create some folders to place our different services."
   ]
  },
  {
   "cell_type": "markdown",
   "metadata": {},
   "source": [
    "```\n",
    "services/\n",
    "├── docker-compose.yml\n",
    "└── api\n",
    "    |_src\n",
    "└── frontend\n",
    "```"
   ]
  },
  {
   "cell_type": "markdown",
   "metadata": {},
   "source": [
    "### Beginning with the API"
   ]
  },
  {
   "cell_type": "markdown",
   "metadata": {},
   "source": [
    "Ok, now let's get started with building out a flask api.  Develop an api so that when we visit `/locations`, we see a list of locations that Anthony Bourdain visited in his TV show *No Reservations*.\n",
    "\n",
    "We can begin by returning the list of locations provided here:"
   ]
  },
  {
   "cell_type": "code",
   "execution_count": 2,
   "metadata": {},
   "outputs": [],
   "source": [
    "locations = [{'country': 'France', 'city': 'Paris',\n",
    "              'coordinates': '48.856614,2.352222'},\n",
    "               {'country': 'Iceland', 'city': 'Reykjavík',\n",
    "                'coordinates': '64.126521,-21.817439'}]"
   ]
  },
  {
   "cell_type": "markdown",
   "metadata": {},
   "source": [
    "Make sure that the environmental `FLASK_APP` points to the appropriate file."
   ]
  },
  {
   "cell_type": "markdown",
   "metadata": {},
   "source": [
    "> Use a `.env` file to store the environmental variables.\n",
    "\n",
    "> Use a `requirements.txt` file to install the flask library."
   ]
  },
  {
   "cell_type": "markdown",
   "metadata": {},
   "source": [
    "When it's complete, we should be able to call `flask run` and make a request to `/locations` to see a list of locations."
   ]
  },
  {
   "cell_type": "code",
   "execution_count": 4,
   "metadata": {},
   "outputs": [
    {
     "data": {
      "text/plain": [
       "[{'city': 'Paris', 'coordinates': '48.856614,2.352222', 'country': 'France'},\n",
       " {'city': 'Reykjavík',\n",
       "  'coordinates': '64.126521,-21.817439',\n",
       "  'country': 'Iceland'}]"
      ]
     },
     "execution_count": 4,
     "metadata": {},
     "output_type": "execute_result"
    }
   ],
   "source": [
    "import requests\n",
    "response = requests.get('http://127.0.0.1:5000/locations')\n",
    "response.json()\n",
    "\n",
    "# [{'city': 'Paris', 'coordinates': '48.856614,2.352222', 'country': 'France'},\n",
    "#  {'city': 'Reykjavík',\n",
    "#   'coordinates': '64.126521,-21.817439',\n",
    "#   'country': 'Iceland'}]\n"
   ]
  },
  {
   "cell_type": "markdown",
   "metadata": {},
   "source": [
    "Ok, now that we have this initial api built out, let's dockerize our API. This involves a Dockerfile located inside of the `/api` folder.\n",
    "\n",
    "Here we'll get you started."
   ]
  },
  {
   "cell_type": "markdown",
   "metadata": {},
   "source": [
    "```Dockerfile\n",
    "FROM python:3.7-alpine\n",
    "WORKDIR /usr/src/app\n",
    "\n",
    "...\n",
    "\n",
    "CMD [\"flask\", \"run\", \"--host=0.0.0.0\"]\n",
    "```"
   ]
  },
  {
   "cell_type": "markdown",
   "metadata": {},
   "source": [
    "> Remember that we need to set the host argument to expose our server outside of the docker container."
   ]
  },
  {
   "cell_type": "markdown",
   "metadata": {},
   "source": [
    "Ok, now build the image `docker build`."
   ]
  },
  {
   "cell_type": "markdown",
   "metadata": {},
   "source": [
    "Then run the image so that we can make the following request."
   ]
  },
  {
   "cell_type": "code",
   "execution_count": 2,
   "metadata": {},
   "outputs": [
    {
     "data": {
      "text/plain": [
       "[{'city': 'Paris', 'coordinates': '48.856614,2.352222', 'country': 'France'},\n",
       " {'city': 'Reykjavík',\n",
       "  'coordinates': '64.126521,-21.817439',\n",
       "  'country': 'Iceland'}]"
      ]
     },
     "execution_count": 2,
     "metadata": {},
     "output_type": "execute_result"
    }
   ],
   "source": [
    "import requests\n",
    "response = requests.get('http://0.0.0.0:5000/locations')\n",
    "response.json()"
   ]
  },
  {
   "cell_type": "markdown",
   "metadata": {},
   "source": [
    "### Moving to Docker Compose"
   ]
  },
  {
   "cell_type": "markdown",
   "metadata": {},
   "source": [
    "Ok, now let's integrate our api with docker-compose file.\n",
    "\n",
    "Specify top-level keys of `version` and `services`, then define a service called `api`.  For api define both how to build the service and the ports.\n",
    "\n",
    "> You do not need to specify the environment as this is read from our .env file which is located in the image."
   ]
  },
  {
   "cell_type": "markdown",
   "metadata": {},
   "source": [
    "```yaml\n",
    "version: '3.7'\n",
    "services:\n",
    "```"
   ]
  },
  {
   "cell_type": "markdown",
   "metadata": {},
   "source": [
    "> Ok, so why did we change the `services > web > build` to `/api`?  It's because this is the relative path from the location of the `docker-compose.yml` file to the Dockerfile for the api."
   ]
  },
  {
   "cell_type": "markdown",
   "metadata": {},
   "source": [
    "Once you have the docker-compose file for this service started.  Let's try to boot it up."
   ]
  },
  {
   "cell_type": "markdown",
   "metadata": {},
   "source": [
    "`docker-compose up`"
   ]
  },
  {
   "cell_type": "markdown",
   "metadata": {},
   "source": [
    "<img src=\"./services-api.png\" width=\"70%\">"
   ]
  },
  {
   "cell_type": "markdown",
   "metadata": {},
   "source": [
    "Once again, we should be able to reach `0.0.0.0:5000` and see the list of locations."
   ]
  },
  {
   "cell_type": "markdown",
   "metadata": {},
   "source": [
    "### Connecting the Services"
   ]
  },
  {
   "cell_type": "markdown",
   "metadata": {},
   "source": [
    "Next up is to build an initial streamlit app.  To do this, build out the following structure:\n",
    "```\n",
    "frontend\n",
    "├── Dockerfile\n",
    "├── requirements.txt\n",
    "└── src\n",
    "    └── index.py\n",
    "```"
   ]
  },
  {
   "cell_type": "markdown",
   "metadata": {},
   "source": [
    "Now the `requirements.txt` should have the following libraries listed:"
   ]
  },
  {
   "cell_type": "markdown",
   "metadata": {},
   "source": [
    "```\n",
    "streamlit\n",
    "black\n",
    "altair\n",
    "```"
   ]
  },
  {
   "cell_type": "markdown",
   "metadata": {},
   "source": [
    "And in the `index.py` file we can place the following:"
   ]
  },
  {
   "cell_type": "markdown",
   "metadata": {},
   "source": [
    "```python\n",
    "import streamlit as st\n",
    "\n",
    "st.write(\"\"\"\n",
    "# My first app\n",
    "Hello *world!*\n",
    "\"\"\")\n",
    "```"
   ]
  },
  {
   "cell_type": "markdown",
   "metadata": {},
   "source": [
    "At this point, we should be able to boot up our streamlit app by installing the libraries specified in `requirements.txt`. And then running `streamlit run src/index.py`."
   ]
  },
  {
   "cell_type": "markdown",
   "metadata": {},
   "source": [
    "* Dockerizing streamlit"
   ]
  },
  {
   "cell_type": "markdown",
   "metadata": {},
   "source": [
    "From here, we can dockerize our streamlit app.  We'll do so by filling in the corresponding `Dockerfile`.  The one trick is that the Dockerfile should inherit from with `python:3.7` instead of `python:3.7-alpine`.\n",
    "\n",
    "So the first two lines will look like the following:"
   ]
  },
  {
   "cell_type": "markdown",
   "metadata": {},
   "source": [
    "```Dockerfile\n",
    "FROM python:3.7\n",
    "WORKDIR /usr/src/app\n",
    "```"
   ]
  },
  {
   "cell_type": "markdown",
   "metadata": {},
   "source": [
    "> We'll let you finish it up the Dockerfile from there."
   ]
  },
  {
   "cell_type": "markdown",
   "metadata": {},
   "source": [
    "When it's complete, build the image and then run a container, exposing the appropriate port."
   ]
  },
  {
   "cell_type": "markdown",
   "metadata": {},
   "source": [
    "<img src=\"streamlit-initial.png\" width=\"60%\">"
   ]
  },
  {
   "cell_type": "markdown",
   "metadata": {},
   "source": [
    "* Integrating with docker compose"
   ]
  },
  {
   "cell_type": "markdown",
   "metadata": {},
   "source": [
    "Next up is to add the corresponding lines to our docker compose file so that running `docker-compose up` boots up both our api and our frontend.  Add a new service to the docker-compose file called `frontend`, along with rest of the configuration for the service."
   ]
  },
  {
   "cell_type": "markdown",
   "metadata": {},
   "source": [
    "### Connecting the two"
   ]
  },
  {
   "cell_type": "markdown",
   "metadata": {},
   "source": [
    "Now we would like our frontend to use our api, well as an api, and make a request to it.  \n",
    "\n",
    "1. Bind Mapping\n",
    "\n",
    "Before getting on with it, it would be nice if we could update our application without rebuilding the image.  We can accomplish this through a bindmapping.  \n",
    "\n",
    "In the `docker-compose` file, add the following under the `frontend` service.\n",
    "\n",
    "```yaml\n",
    "volumes:\n",
    "      - ./frontend/src:/usr/src/app/src\n",
    "```"
   ]
  },
  {
   "cell_type": "markdown",
   "metadata": {},
   "source": [
    "This will map our ports from `src` to the directory in our frontend image.  "
   ]
  },
  {
   "cell_type": "markdown",
   "metadata": {},
   "source": [
    "> **Notice**: That our source is specified from a path relative to the docker-compose file, but our target is specified using the *absolute path* of the image."
   ]
  },
  {
   "cell_type": "markdown",
   "metadata": {},
   "source": [
    "So run `docker-compose up` again, and see if we can make changes to the streamlit app without rebuilding the image. "
   ]
  },
  {
   "cell_type": "markdown",
   "metadata": {},
   "source": [
    "2. Making requests to the api\n",
    "\n",
    "Ok, now it's time to make requests to the api.  In the streamlit app, import the requests library and make a request to the locations route in our api.\n",
    "\n",
    "`api:5000/locations`\n",
    "\n",
    "Display the json on `streamlit`."
   ]
  },
  {
   "cell_type": "markdown",
   "metadata": {},
   "source": [
    "3. Bind mapping again\n",
    "\n",
    "Then let's bind map the contents of the /api/src locally to that in the api container.  To see the absolute path in the container, you may need to sh into the container.\n",
    "\n",
    "Now one thing is that the container will not *display* live updates made via the api.  This is because our flask app does not have `debug = True`.  That's ok, we can still make a change to say the `__init__` file, then `sh` into the container and `cat` the `__init__` to confirm that the file changed."
   ]
  },
  {
   "cell_type": "markdown",
   "metadata": {},
   "source": [
    "### Integrating a Database"
   ]
  },
  {
   "cell_type": "markdown",
   "metadata": {},
   "source": [
    "Ok, now that we have data coming from our api coming to the streamlit app.  Let's change how our api gets it's data.  Currently, it's just hardcoded into the locations route."
   ]
  },
  {
   "cell_type": "markdown",
   "metadata": {},
   "source": [
    "```python\n",
    "@app.route('/locations')\n",
    "def locations():\n",
    "    locations = [{'country': 'France', 'city': 'Paris',\n",
    "              'coordinates': '48.856614,2.352222'},\n",
    "               {'country': 'Iceland', 'city': 'Reykjavík',\n",
    "                'coordinates': '64.126521,-21.817439'}]\n",
    "    return jsonify(locations)\n",
    "```"
   ]
  },
  {
   "cell_type": "markdown",
   "metadata": {},
   "source": [
    "Let's change this so that we get the data from a database."
   ]
  },
  {
   "cell_type": "markdown",
   "metadata": {},
   "source": [
    "1. Adding a DB service"
   ]
  },
  {
   "cell_type": "markdown",
   "metadata": {},
   "source": [
    "First, in the docker-compose file, let's add a db service.  \n",
    "> We don't need to worry about connecting it to our flask-api just yet.\n",
    "\n",
    "Ok. let's get started.\n",
    "\n",
    "This service should use the `postgres` image.  And to get it working we need to do the following:\n",
    "\n",
    "1. Specify the environment variables `POSTGRES_USER` and `POSTGRES_PASSWORD`\n",
    "2. Map the port from `5432` to `5432`\n",
    "3. Specify and create a volume to store data which is stored in `/var/lib/postgresql/data`.\n",
    "\n",
    "> Try not to refer to the previous lessons in setting this up.  It is ok, to refer to the [postgres documentation](https://hub.docker.com/_/postgres)."
   ]
  },
  {
   "cell_type": "markdown",
   "metadata": {},
   "source": [
    "Then, let's run docker-compose up.  We should now see the db service running alongside the two other services."
   ]
  },
  {
   "cell_type": "markdown",
   "metadata": {},
   "source": [
    "<img src=\"./multiple-services.png\" width=\"80%\">"
   ]
  },
  {
   "cell_type": "markdown",
   "metadata": {},
   "source": [
    "2. Connecting to api to our db"
   ]
  },
  {
   "cell_type": "markdown",
   "metadata": {},
   "source": [
    "Next up is to install the postgres package in our api, and connect it to our db service.  First, let's install the appropriate dependencies needed for the postgres package.  To install these dependencies, add the following lines to the api's Dockerfile."
   ]
  },
  {
   "cell_type": "markdown",
   "metadata": {},
   "source": [
    "```Dockerfile\n",
    "RUN apk update \\\n",
    "    && apk add postgresql-dev gcc python3-dev musl-dev\n",
    "```"
   ]
  },
  {
   "cell_type": "markdown",
   "metadata": {},
   "source": [
    "Then add the postgres library to the `requirements.txt` file."
   ]
  },
  {
   "cell_type": "markdown",
   "metadata": {},
   "source": [
    "And then in the `__init__.py` file, let's setup postgres to connect to our db."
   ]
  },
  {
   "cell_type": "markdown",
   "metadata": {},
   "source": [
    "```python\n",
    "POSTGRES_DATABASE_URI = os.environ.get('DATABASE_URL')\n",
    "connection = Postgres(POSTGRES_DATABASE_URI)\n",
    "\n",
    "connection.run(\"CREATE TABLE locations (name text)\")\n",
    "connection.run(\"INSERT INTO locations VALUES ('maggie simpson')\")\n",
    "```"
   ]
  },
  {
   "cell_type": "markdown",
   "metadata": {},
   "source": [
    "And then in the routes we can select from the database and return the data as json."
   ]
  },
  {
   "cell_type": "markdown",
   "metadata": {},
   "source": [
    "```python\n",
    "@app.route('/locations')\n",
    "def index():\n",
    "    users = connection.all('SELECT * FROM locations;')\n",
    "    return jsonify({'locations': locations})\n",
    "```"
   ]
  },
  {
   "cell_type": "markdown",
   "metadata": {},
   "source": [
    "3. Refactor the initial database call"
   ]
  },
  {
   "cell_type": "markdown",
   "metadata": {},
   "source": [
    "Now instead of creating a table each time we boot up our application, we can specify an initialization function directly in sql.  We can do this by adding a volume that establishes a bind mount between the folder with our sql file `/docker-entrypoint-initdb.d/`.\n",
    "\n",
    "Here, we have an initial set of sql defined in the `db` folder."
   ]
  },
  {
   "cell_type": "markdown",
   "metadata": {},
   "source": [
    "### Connect to frontend to the API"
   ]
  },
  {
   "cell_type": "markdown",
   "metadata": {},
   "source": [
    "Now that we have connected the api to the db, it's time to connect the frontend to the api.  We can do so by making a request to our api from our streamlit application."
   ]
  },
  {
   "cell_type": "markdown",
   "metadata": {},
   "source": [
    "Use the requests library to make the correct request.  And use this request to get the data to display the list of cities.\n",
    "\n",
    "> One gotcha is that you will likely need to start up the db service before running `docker-compose up` to properly make the request."
   ]
  },
  {
   "cell_type": "markdown",
   "metadata": {},
   "source": [
    "> <img src=\"./app-display.png\" width=\"60%\">"
   ]
  },
  {
   "cell_type": "markdown",
   "metadata": {},
   "source": [
    "Ok, with this we have used docker-compose to connect all three of our services."
   ]
  },
  {
   "cell_type": "markdown",
   "metadata": {},
   "source": [
    "### Summary"
   ]
  },
  {
   "cell_type": "code",
   "execution_count": null,
   "metadata": {},
   "outputs": [],
   "source": []
  },
  {
   "cell_type": "markdown",
   "metadata": {},
   "source": [
    "### Resources\n",
    "\n",
    "[Docker compose env](https://medium.com/better-programming/using-variables-in-docker-compose-265a604c2006)\n",
    "\n",
    "[Parts unknown travel places](https://github.com/underthecurve/bourdain-travel-places)\n",
    "\n",
    "[Return Json from DB](https://varun-verma.medium.com/use-psycopg2-to-return-dictionary-like-values-key-value-pairs-4d3047d8de1b)\n",
    "\n",
    "[Dockerizing Flask and Unicorn](https://testdriven.io/blog/dockerizing-flask-with-postgres-gunicorn-and-nginx/)\n",
    "\n",
    "[Docker build](https://stackoverflow.com/questions/46711990/error-pg-config-executable-not-found-when-installing-psycopg2-on-alpine-in-docker)\n",
    "\n",
    "[Nginx Flask Docker Postgres](http://www.ameyalokare.com/docker/2017/09/20/nginx-flask-postgres-docker-compose.html)"
   ]
  },
  {
   "cell_type": "markdown",
   "metadata": {},
   "source": [
    "[docker with volumes](https://www.saltycrane.com/blog/2019/01/how-run-postgresql-docker-mac-local-development/)"
   ]
  }
 ],
 "metadata": {
  "kernelspec": {
   "display_name": "Python 3",
   "language": "python",
   "name": "python3"
  },
  "language_info": {
   "codemirror_mode": {
    "name": "ipython",
    "version": 3
   },
   "file_extension": ".py",
   "mimetype": "text/x-python",
   "name": "python",
   "nbconvert_exporter": "python",
   "pygments_lexer": "ipython3",
   "version": "3.8.3"
  }
 },
 "nbformat": 4,
 "nbformat_minor": 4
}
